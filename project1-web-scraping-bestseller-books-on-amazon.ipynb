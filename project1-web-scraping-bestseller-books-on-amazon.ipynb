{
 "cells": [
  {
   "cell_type": "markdown",
   "id": "da3d4edf",
   "metadata": {},
   "source": [
    "# Web Scraping - Bestseller Books on Amazon using Python\n",
    "\n",
    "![Banner](https://i.imgur.com/dd4tZRW.png)\n",
    "\n",
    "### What is web scraping?\n",
    "Web scraping, web harvesting, or web data extraction is  an automatic method to obtain large amounts of data from websites. Most of this data is unstructured data in an HTML format which is then converted into structured data in a spreadsheet or a database so that it can be used in various applications. There are many different ways to perform web scraping to obtain data from websites. These include using online services, particular API’s or even creating your code for web scraping from scratch. Many large websites, like Google, Twitter, Facebook, StackOverflow, etc. have API’s that allow you to access their data in a structured format. This is the best option, but there are other sites that don’t allow users to access large amounts of data in a structured form or they are simply not that technologically advanced. In that situation, it’s best to use Web Scraping to scrape the website for data.\n",
    "\n",
    "The pages https://www.amazon.in/gp/bestsellers/books/ref=zg_bs_pg_2?ie=UTF8&pg=1 and https://www.amazon.in/gp/bestsellers/books/ref=zg_bs_pg_2?ie=UTF8&pg=2 provides the top 100 `bestseller books on Amazon`. The list is updated hourly based on the sales of the books. In this project we'll retrieve information from these pages using `web scraping`.\n",
    "\n",
    "We'll use the `Python` libraries such as [Requets](https://requests.readthedocs.io/en/latest/) and [Beautiful Soup](https://www.crummy.com/software/BeautifulSoup/bs4/doc/) to scrape data from these pages.\n",
    "\n",
    "Here is the outline of the steps we'll be follow:\n",
    "\n",
    "1. Download the web page using `requests`\n",
    "2. Parse the HTML source code using beautiful soup\n",
    "3. Extract books title, author name, star rating, total ratings, price and URLs from page\n",
    "4. Compile the extracted information into Python lists and dictionaries\n",
    "5. Extract and combine data from both pages\n",
    "6. Save the extracted information to a CSV file.\n",
    "\n",
    "By the end of the project we'll create a CSV file in the following format:\n",
    "\n",
    "```\n",
    "Book Title, Author, Star Rating, Total Ratings, Price and URL\n",
    "The Psychology of Money, Morgan Housel, 4.6 out of 5 stars, 43,757, ₹240.00, https://amazon.in/Psychology-Money-Morgan-Housel/dp/9390166268/ref=zg_bs_books_sccl_2/000-0000000-0000000?pd_rd_i=9390166268&psc=1\n",
    "Word Power Made Easy, Norman Lewis, 4.4 out of 5 stars, 41,780, ₹115.00, https://amazon.in/Word-Power-Made-Norman-Lewis/dp/0143424688/ref=zg_bs_books_sccl_8/000-0000000-0000000?pd_rd_i=0143424688&psc=1\n",
    "...\n",
    "```"
   ]
  },
  {
   "cell_type": "markdown",
   "id": "758f4796",
   "metadata": {},
   "source": [
    "### How to Run the Code\n",
    "You can execute the code using 'Run' button and selecting 'Run on Binder' at the top of this page. You can make changes and save your own version of the notebook to [Jovian](https://www.jovian.ai) by executing the following cells:"
   ]
  },
  {
   "cell_type": "code",
   "execution_count": 1,
   "id": "4f2c74df",
   "metadata": {},
   "outputs": [],
   "source": [
    "!pip install jovian --upgrade --quiet"
   ]
  },
  {
   "cell_type": "markdown",
   "id": "644cc224",
   "metadata": {},
   "source": [
    "## Download the web page using `requests`\n",
    "\n",
    "We'll use the `requests` library to download the web page.\n",
    "\n",
    "The library can be installed using `pip`."
   ]
  },
  {
   "cell_type": "code",
   "execution_count": 2,
   "id": "396e3d76",
   "metadata": {},
   "outputs": [],
   "source": [
    "!pip install requests --upgrade --quiet"
   ]
  },
  {
   "cell_type": "code",
   "execution_count": 3,
   "id": "f03b2b80",
   "metadata": {},
   "outputs": [],
   "source": [
    "import requests"
   ]
  },
  {
   "cell_type": "markdown",
   "id": "b475918d",
   "metadata": {},
   "source": [
    "The library is now installed and imported.\n",
    "\n",
    "To download a web page, we'll use the `get` function from requests. "
   ]
  },
  {
   "cell_type": "code",
   "execution_count": 4,
   "id": "3f0e87ec",
   "metadata": {},
   "outputs": [],
   "source": [
    "page1_url = 'https://www.amazon.in/gp/bestsellers/books/ref=zg_bs_pg_2?ie=UTF8&pg=1'\n",
    "response = requests.get(page1_url)"
   ]
  },
  {
   "cell_type": "markdown",
   "id": "faef535e",
   "metadata": {},
   "source": [
    "`requests.get` returns a response object containing the data from the web page and some other information about the response.\n",
    "\n",
    "The `.status_code` property can be used to check if the requests was successful. A successful response will have an [HTTP status code](https://developer.mozilla.org/en-US/docs/Web/HTTP/Status) between 200 and 299."
   ]
  },
  {
   "cell_type": "code",
   "execution_count": 5,
   "id": "f43ae783",
   "metadata": {},
   "outputs": [
    {
     "data": {
      "text/plain": [
       "200"
      ]
     },
     "execution_count": 5,
     "metadata": {},
     "output_type": "execute_result"
    }
   ],
   "source": [
    "response.status_code"
   ]
  },
  {
   "cell_type": "markdown",
   "id": "7b97c3c6",
   "metadata": {},
   "source": [
    "The request was successful! We can get the contents of the page using `response.text`."
   ]
  },
  {
   "cell_type": "code",
   "execution_count": 6,
   "id": "245182bd",
   "metadata": {},
   "outputs": [],
   "source": [
    "page_contents = response.text"
   ]
  },
  {
   "cell_type": "markdown",
   "id": "ccfeb9cc",
   "metadata": {},
   "source": [
    "Let's check the no. of characters on the page."
   ]
  },
  {
   "cell_type": "code",
   "execution_count": 7,
   "id": "3cc3ecba",
   "metadata": {},
   "outputs": [
    {
     "data": {
      "text/plain": [
       "321033"
      ]
     },
     "execution_count": 7,
     "metadata": {},
     "output_type": "execute_result"
    }
   ],
   "source": [
    "len(page_contents)"
   ]
  },
  {
   "cell_type": "markdown",
   "id": "b71790bd",
   "metadata": {},
   "source": [
    "The page contains over 320000 characters.\n",
    "\n",
    "Here are the first 500 characters of the page:"
   ]
  },
  {
   "cell_type": "code",
   "execution_count": 8,
   "id": "1f3ee16e",
   "metadata": {},
   "outputs": [
    {
     "data": {
      "text/plain": [
       "'<!doctype html><html lang=\"en-in\" class=\"a-no-js\" data-19ax5a9jf=\"dingo\"><!-- sp:feature:head-start -->\\n<head><script>var aPageStart = (new Date()).getTime();</script><meta charset=\"utf-8\"/>\\n<!-- sp:end-feature:head-start -->\\n\\n<!-- sp:feature:cs-optimization -->\\n<meta http-equiv=\\'x-dns-prefetch-control\\' content=\\'on\\'>\\n<link rel=\"dns-prefetch\" href=\"https://images-eu.ssl-images-amazon.com\">\\n<link rel=\"dns-prefetch\" href=\"https://m.media-amazon.com\">\\n<link rel=\"dns-prefetch\" href=\"https://completio'"
      ]
     },
     "execution_count": 8,
     "metadata": {},
     "output_type": "execute_result"
    }
   ],
   "source": [
    "page_contents[:500]"
   ]
  },
  {
   "cell_type": "markdown",
   "id": "3ec6b572",
   "metadata": {},
   "source": [
    "What we are looking above is the [HTML source code](https://en.wikipedia.org/wiki/HTML) of the web page.\n",
    "\n",
    "We can also save it to a file and view the page locally within Jupyter using \"File > Open\"."
   ]
  },
  {
   "cell_type": "code",
   "execution_count": 9,
   "id": "56dfa433",
   "metadata": {},
   "outputs": [],
   "source": [
    "with open ('webpage.html', 'w') as f:\n",
    "    f.write(page_contents)"
   ]
  },
  {
   "cell_type": "markdown",
   "id": "a075e01b",
   "metadata": {},
   "source": [
    "The preview looks similar to the original but none of the links work.\n",
    "\n",
    "![](https://i.imgur.com/CT2dv0X.png)"
   ]
  },
  {
   "cell_type": "markdown",
   "id": "8486d428",
   "metadata": {},
   "source": [
    "We have successfully downloaded the web page using requests."
   ]
  },
  {
   "cell_type": "markdown",
   "id": "67598b93",
   "metadata": {},
   "source": [
    "## Parse the HTML source code using beautiful soup\n",
    "\n",
    "We'll use the `beautifulsoup4` library to parse the data from HTML source code of the web page. The library can be installed using pip."
   ]
  },
  {
   "cell_type": "code",
   "execution_count": 10,
   "id": "ab522d87",
   "metadata": {},
   "outputs": [],
   "source": [
    "!pip  install beautifulsoup4 --upgrade --quiet"
   ]
  },
  {
   "cell_type": "markdown",
   "id": "e1e9d75c",
   "metadata": {},
   "source": [
    "The library is installed. \n",
    "\n",
    "Now, we have to import `BeautifulSoup` class from the module `bs4`."
   ]
  },
  {
   "cell_type": "code",
   "execution_count": 11,
   "id": "a0bdd4cd",
   "metadata": {},
   "outputs": [],
   "source": [
    "from bs4 import BeautifulSoup"
   ]
  },
  {
   "cell_type": "markdown",
   "id": "a10e21a2",
   "metadata": {},
   "source": [
    "We'll use the `BeautifulSoup` to create a doc."
   ]
  },
  {
   "cell_type": "code",
   "execution_count": 12,
   "id": "3aeb87ee",
   "metadata": {},
   "outputs": [],
   "source": [
    "doc = BeautifulSoup(response.text,'html.parser')"
   ]
  },
  {
   "cell_type": "code",
   "execution_count": 13,
   "id": "c2263a56",
   "metadata": {},
   "outputs": [
    {
     "data": {
      "text/plain": [
       "bs4.BeautifulSoup"
      ]
     },
     "execution_count": 13,
     "metadata": {},
     "output_type": "execute_result"
    }
   ],
   "source": [
    "type(doc)"
   ]
  },
  {
   "cell_type": "markdown",
   "id": "a5ec0da2",
   "metadata": {},
   "source": [
    "Let's get the title and first image of the doc using `.find` method."
   ]
  },
  {
   "cell_type": "code",
   "execution_count": 14,
   "id": "9fb3c222",
   "metadata": {},
   "outputs": [
    {
     "data": {
      "text/plain": [
       "<title>Amazon.in Bestsellers: The most popular items in Books</title>"
      ]
     },
     "execution_count": 14,
     "metadata": {},
     "output_type": "execute_result"
    }
   ],
   "source": [
    "doc.find('title')"
   ]
  },
  {
   "cell_type": "code",
   "execution_count": 15,
   "id": "a67c457c",
   "metadata": {},
   "outputs": [
    {
     "data": {
      "text/plain": [
       "<img alt=\"\" src=\"https://images-eu.ssl-images-amazon.com/images/G/31/social_share/amazon_logo._CB633266945_.png\" style=\"display:none\"/>"
      ]
     },
     "execution_count": 15,
     "metadata": {},
     "output_type": "execute_result"
    }
   ],
   "source": [
    "doc.find('img')"
   ]
  },
  {
   "cell_type": "code",
   "execution_count": 16,
   "id": "a1dbc08d",
   "metadata": {},
   "outputs": [],
   "source": [
    "def select_page(page_no):    \n",
    "    # Downloads the web page\n",
    "    response = requests.get('https://www.amazon.in/gp/bestsellers/books/ref=zg_bs_pg_2?ie=UTF8&pg={}'.format(page_no))\n",
    "   \n",
    "    # Check if download was successful\n",
    "    if response.status_code != 200:\n",
    "        raise Exception('Failed to fetch webpage: https://www.amazon.in/gp/bestsellers/books/ref=zg_bs_pg_2?ie=UTF8&pg={}'.format(page_no))\n",
    "    \n",
    "    # Get the page HTML\n",
    "    page_content = response.text\n",
    "    \n",
    "    # Create a bs4 doc\n",
    "    doc = BeautifulSoup(response.text, 'html.parser')\n",
    "    return doc"
   ]
  },
  {
   "cell_type": "markdown",
   "id": "a09dac22",
   "metadata": {},
   "source": [
    "Let's parse the first page of the amazon's bestseller books using the `select_page()` function."
   ]
  },
  {
   "cell_type": "code",
   "execution_count": 17,
   "id": "df9e1b26",
   "metadata": {},
   "outputs": [],
   "source": [
    "doc = select_page(1)"
   ]
  },
  {
   "cell_type": "code",
   "execution_count": 18,
   "id": "a2e5f6d6",
   "metadata": {},
   "outputs": [
    {
     "data": {
      "text/plain": [
       "<title>Amazon.in Bestsellers: The most popular items in Books</title>"
      ]
     },
     "execution_count": 18,
     "metadata": {},
     "output_type": "execute_result"
    }
   ],
   "source": [
    "doc.find('title')"
   ]
  },
  {
   "cell_type": "markdown",
   "id": "75c18687",
   "metadata": {},
   "source": [
    "We have the title of the first web page.\n",
    "\n",
    "We'll use the `.text` method to remove the tags on both ends and get the text only."
   ]
  },
  {
   "cell_type": "code",
   "execution_count": 19,
   "id": "6cdeb8af",
   "metadata": {},
   "outputs": [
    {
     "data": {
      "text/plain": [
       "'Amazon.in Bestsellers: The most popular items in Books'"
      ]
     },
     "execution_count": 19,
     "metadata": {},
     "output_type": "execute_result"
    }
   ],
   "source": [
    "doc.find('title').text"
   ]
  },
  {
   "cell_type": "markdown",
   "id": "423d91fc",
   "metadata": {},
   "source": [
    "We can now use `select_page()` function to download either the first or the second web page of bestseller books and parse it using beautiful soup."
   ]
  },
  {
   "cell_type": "markdown",
   "id": "e488b8ce",
   "metadata": {},
   "source": [
    "## Extract books title, author name, star rating, total ratings, price and URLs from web page\n",
    "\n",
    "The `doc` object have several properties and methods for extracting information from the HTML document.\n",
    "We'll use some of the properties and methods to extract the required information. "
   ]
  },
  {
   "cell_type": "markdown",
   "id": "7c29e3e5",
   "metadata": {},
   "source": [
    "### Book Title\n",
    "\n",
    "The title of the book can be used to identify the work, to put it in context, to convey a minimal summary of its contents, and to pique the reader's curiosity. Hence, we'll first create a function to get the title of all the books on the web page. \n",
    "\n",
    "We'll use `doc` as an argument to parse the book title."
   ]
  },
  {
   "cell_type": "code",
   "execution_count": 20,
   "id": "81460ea1",
   "metadata": {},
   "outputs": [],
   "source": [
    "def get_books_title(doc):\n",
    "    # Get all the 'div' tags from the doc using 'find_all' method and 'class' attribute\n",
    "    div_tags = doc.find_all('div', class_='a-column a-span12 a-text-center _cDEzb_grid-column_2hIsc')\n",
    "    books_title = []\n",
    "    # Create a loop to generate a list of 'titles' for all books\n",
    "    for i in range(len(div_tags)):\n",
    "        # Using find_all method for 'span' tag to get the title\n",
    "        books_title.append(div_tags[i].find_all('span')[1].text)\n",
    "    # Returns the list of titles for all books\n",
    "    return books_title"
   ]
  },
  {
   "cell_type": "markdown",
   "id": "237d7daf",
   "metadata": {},
   "source": [
    "Now, we have created the function to get the book titles.\n",
    "\n",
    "Let's use the function and get the total number of books on the first page. "
   ]
  },
  {
   "cell_type": "code",
   "execution_count": 21,
   "id": "b11e2c15",
   "metadata": {},
   "outputs": [],
   "source": [
    "books_title = get_books_title(doc)"
   ]
  },
  {
   "cell_type": "code",
   "execution_count": 22,
   "id": "e2a1b55c",
   "metadata": {},
   "outputs": [
    {
     "data": {
      "text/plain": [
       "50"
      ]
     },
     "execution_count": 22,
     "metadata": {},
     "output_type": "execute_result"
    }
   ],
   "source": [
    "len(books_title)"
   ]
  },
  {
   "cell_type": "markdown",
   "id": "159e78bd",
   "metadata": {},
   "source": [
    "So, we have 50 books on the first page of the Amazon's bestseller books web page.\n",
    "\n",
    "Here are the titles of the top 5 bestseller books: "
   ]
  },
  {
   "cell_type": "code",
   "execution_count": 23,
   "id": "9c1c913f",
   "metadata": {},
   "outputs": [
    {
     "data": {
      "text/plain": [
       "['Atomic Habits: The life-changing million copy bestseller',\n",
       " 'Ikigai: The Japanese secret to a long and happy life',\n",
       " 'The Psychology of Money',\n",
       " 'The Power of Your Subconscious Mind',\n",
       " 'Word Power Made Easy']"
      ]
     },
     "execution_count": 23,
     "metadata": {},
     "output_type": "execute_result"
    }
   ],
   "source": [
    "books_title[:5]"
   ]
  },
  {
   "cell_type": "markdown",
   "id": "c9512f07",
   "metadata": {},
   "source": [
    "We have created the function `get_books_title` to parse the titles of the all books on the web page."
   ]
  },
  {
   "cell_type": "markdown",
   "id": "89d305eb",
   "metadata": {},
   "source": [
    "### Authors Name\n",
    "\n",
    "We'll create a function to get authors name for each book."
   ]
  },
  {
   "cell_type": "code",
   "execution_count": 24,
   "id": "8739d6cc",
   "metadata": {},
   "outputs": [],
   "source": [
    "def get_author_names(doc):\n",
    "    \"\"\"The attributes of all the books are compiled in div tags which can be parsed using the 'class' attribute from the doc.\n",
    "    Hence it will remain same to extract all the required information.\"\"\" \n",
    "    div_tags = doc.find_all('div', class_='a-column a-span12 a-text-center _cDEzb_grid-column_2hIsc')\n",
    "    author = []\n",
    "    # Create a loop within range of length of 'div tags' to generate a list of 'authors name' for all books\n",
    "    for i in range(len(div_tags)):\n",
    "        # Using the 'try' and 'except' block to handle any error's if present\n",
    "        try:\n",
    "            # Using find_all method with 'class' attribute to get the authors name\n",
    "            author.append(div_tags[i].find_all(class_='_cDEzb_p13n-sc-css-line-clamp-1_1Fn1y')[1].text)\n",
    "        except:\n",
    "            try:\n",
    "                author.append(div_tags[i].find_all(class_='_cDEzb_p13n-sc-css-line-clamp-1_1Fn1y')[0].text)\n",
    "            except:\n",
    "                author.append('NA')\n",
    "    # Returns the list of authors name\n",
    "    return author"
   ]
  },
  {
   "cell_type": "markdown",
   "id": "6d73788a",
   "metadata": {},
   "source": [
    "We have created the function to get the names of author for all the books.\n",
    "\n",
    "Let's parse the authors names from the doc."
   ]
  },
  {
   "cell_type": "code",
   "execution_count": 25,
   "id": "9810c3e2",
   "metadata": {},
   "outputs": [],
   "source": [
    "author_names = get_author_names(doc)"
   ]
  },
  {
   "cell_type": "code",
   "execution_count": 26,
   "id": "a86fadce",
   "metadata": {},
   "outputs": [
    {
     "data": {
      "text/plain": [
       "50"
      ]
     },
     "execution_count": 26,
     "metadata": {},
     "output_type": "execute_result"
    }
   ],
   "source": [
    "len(author_names)"
   ]
  },
  {
   "cell_type": "markdown",
   "id": "73d30cfc",
   "metadata": {},
   "source": [
    "Length of the authors list matches the length of the books list.\n",
    "\n",
    "Let's get the name list of top 5 authors."
   ]
  },
  {
   "cell_type": "code",
   "execution_count": 27,
   "id": "e4c68102",
   "metadata": {},
   "outputs": [
    {
     "data": {
      "text/plain": [
       "['James Clear',\n",
       " 'Héctor García',\n",
       " 'Morgan Housel',\n",
       " 'Joseph Murphy',\n",
       " 'Norman Lewis']"
      ]
     },
     "execution_count": 27,
     "metadata": {},
     "output_type": "execute_result"
    }
   ],
   "source": [
    "author_names[:5]"
   ]
  },
  {
   "cell_type": "markdown",
   "id": "24acd248",
   "metadata": {},
   "source": [
    "We have created the function `get_author_names` to parse the author name of all books from the web page."
   ]
  },
  {
   "cell_type": "markdown",
   "id": "2022936f",
   "metadata": {},
   "source": [
    "### Star Ratings\n",
    "\n",
    "Star rating is a system using five stars to rank a product from good to bad. In the case of books, it gives potential readers an idea of how many people liked the book, and how many didn't based on the content and/or quality of the book.\n",
    "\n",
    "Let's create a function to parse the star ratings of the books."
   ]
  },
  {
   "cell_type": "code",
   "execution_count": 28,
   "id": "0eb07226",
   "metadata": {},
   "outputs": [],
   "source": [
    "def get_star_ratings(doc):\n",
    "    div_tags = doc.find_all('div', class_='a-column a-span12 a-text-center _cDEzb_grid-column_2hIsc')\n",
    "    star_rating = []\n",
    "    \"\"\"Running the loop within range of length of 'div tags' as all books attributes are present in \n",
    "    div tags with above 'class' values\"\"\"\n",
    "    for i in range(len(div_tags)):\n",
    "        try:\n",
    "            # Using the 'span' tag with the 'class' attribute to get the star ratings\n",
    "            star_rating.append(div_tags[i].find('span', class_='a-icon-alt').text)\n",
    "        except:\n",
    "            star_rating.append('NA')\n",
    "    # Returns the list of star ratings\n",
    "    return star_rating"
   ]
  },
  {
   "cell_type": "markdown",
   "id": "2a4573a3",
   "metadata": {},
   "source": [
    "Let's use the function and get the star ratings of the books."
   ]
  },
  {
   "cell_type": "code",
   "execution_count": 29,
   "id": "0b977c3e",
   "metadata": {},
   "outputs": [],
   "source": [
    "star_ratings = get_star_ratings(doc)"
   ]
  },
  {
   "cell_type": "code",
   "execution_count": 30,
   "id": "4ac3c081",
   "metadata": {},
   "outputs": [
    {
     "data": {
      "text/plain": [
       "50"
      ]
     },
     "execution_count": 30,
     "metadata": {},
     "output_type": "execute_result"
    }
   ],
   "source": [
    "len(star_ratings)"
   ]
  },
  {
   "cell_type": "code",
   "execution_count": 31,
   "id": "020caa3c",
   "metadata": {},
   "outputs": [
    {
     "data": {
      "text/plain": [
       "['4.7 out of 5 stars',\n",
       " '4.6 out of 5 stars',\n",
       " '4.6 out of 5 stars',\n",
       " '4.5 out of 5 stars',\n",
       " '4.4 out of 5 stars']"
      ]
     },
     "execution_count": 31,
     "metadata": {},
     "output_type": "execute_result"
    }
   ],
   "source": [
    "star_ratings[:5]"
   ]
  },
  {
   "cell_type": "markdown",
   "id": "a595bff2",
   "metadata": {},
   "source": [
    "So, we have the star ratings for top 5 books."
   ]
  },
  {
   "cell_type": "markdown",
   "id": "ecef375e",
   "metadata": {},
   "source": [
    "We have created the function `get_star_ratings` to parse the star ratings of all the books on the web page."
   ]
  },
  {
   "cell_type": "markdown",
   "id": "96326bde",
   "metadata": {},
   "source": [
    "### Total Ratings\n",
    "\n",
    "Total ratings or global ratings are the total number of times a book is given a star rating. Based on this and other factors, the star rating for a book is calculated."
   ]
  },
  {
   "cell_type": "code",
   "execution_count": 32,
   "id": "671733eb",
   "metadata": {},
   "outputs": [],
   "source": [
    "def get_total_ratings(doc):\n",
    "    div_tags = doc.find_all('div', class_='a-column a-span12 a-text-center _cDEzb_grid-column_2hIsc')\n",
    "    total_rating = []\n",
    "    for i in range(len(div_tags)):\n",
    "        try:\n",
    "            # Using the 'span' tag with the 'class' attribute to get the total ratings\n",
    "            total_rating.append(div_tags[i].find_all('span', class_='a-size-small')[-2].text)\n",
    "        except:\n",
    "            total_rating.append('NA')\n",
    "    # Returns the list of total ratings\n",
    "    return total_rating"
   ]
  },
  {
   "cell_type": "markdown",
   "id": "4b28721f",
   "metadata": {},
   "source": [
    "Let's use the function and get the total ratings of the books."
   ]
  },
  {
   "cell_type": "code",
   "execution_count": 33,
   "id": "60108909",
   "metadata": {},
   "outputs": [],
   "source": [
    "total_ratings = get_total_ratings(doc)"
   ]
  },
  {
   "cell_type": "code",
   "execution_count": 34,
   "id": "c22e031a",
   "metadata": {},
   "outputs": [
    {
     "data": {
      "text/plain": [
       "50"
      ]
     },
     "execution_count": 34,
     "metadata": {},
     "output_type": "execute_result"
    }
   ],
   "source": [
    "len(total_ratings)"
   ]
  },
  {
   "cell_type": "markdown",
   "id": "9c71976a",
   "metadata": {},
   "source": [
    "So, we have the 50 total ratings which matches the total number of books we have parsed. \n",
    "\n",
    "Let's see the total ratings of the top 5 books."
   ]
  },
  {
   "cell_type": "code",
   "execution_count": 35,
   "id": "9274e467",
   "metadata": {},
   "outputs": [
    {
     "data": {
      "text/plain": [
       "['55,002', '36,253', '44,661', '58,547', '42,134']"
      ]
     },
     "execution_count": 35,
     "metadata": {},
     "output_type": "execute_result"
    }
   ],
   "source": [
    "total_ratings[:5]"
   ]
  },
  {
   "cell_type": "markdown",
   "id": "e140df3a",
   "metadata": {},
   "source": [
    "We have created the function `get_total_ratings` to get the total ratings of all the books on the web page."
   ]
  },
  {
   "cell_type": "markdown",
   "id": "318c4bcf",
   "metadata": {},
   "source": [
    "### Book Price"
   ]
  },
  {
   "cell_type": "code",
   "execution_count": 36,
   "id": "634fb72c",
   "metadata": {},
   "outputs": [],
   "source": [
    "def get_books_price(doc):\n",
    "    div_tags = doc.find_all('div', class_='a-column a-span12 a-text-center _cDEzb_grid-column_2hIsc')\n",
    "    book_price = []\n",
    "    for i in range(len(div_tags)):\n",
    "        try:\n",
    "            # Using the 'class' attribute to get the books price\n",
    "            book_price.append(div_tags[i].find(class_='p13n-sc-price').text)\n",
    "        except:\n",
    "            book_price.append('NA')\n",
    "    # Returns the list of books price\n",
    "    return book_price"
   ]
  },
  {
   "cell_type": "markdown",
   "id": "b787bed2",
   "metadata": {},
   "source": [
    "Let's use the above function and get the price of all the bestseller books."
   ]
  },
  {
   "cell_type": "code",
   "execution_count": 37,
   "id": "1c8707f0",
   "metadata": {},
   "outputs": [],
   "source": [
    "books_price = get_books_price(doc)"
   ]
  },
  {
   "cell_type": "code",
   "execution_count": 38,
   "id": "3c39060a",
   "metadata": {},
   "outputs": [
    {
     "data": {
      "text/plain": [
       "50"
      ]
     },
     "execution_count": 38,
     "metadata": {},
     "output_type": "execute_result"
    }
   ],
   "source": [
    "len(books_price)"
   ]
  },
  {
   "cell_type": "code",
   "execution_count": 39,
   "id": "4a4f7cbc",
   "metadata": {},
   "outputs": [
    {
     "data": {
      "text/plain": [
       "['₹295.00', '₹298.00', '₹245.00', '₹115.00', '₹122.00']"
      ]
     },
     "execution_count": 39,
     "metadata": {},
     "output_type": "execute_result"
    }
   ],
   "source": [
    "books_price[:5]"
   ]
  },
  {
   "cell_type": "markdown",
   "id": "1abcbdb0",
   "metadata": {},
   "source": [
    "So, we have the prices of the top 5 books of Amazon's bestseller books."
   ]
  },
  {
   "cell_type": "markdown",
   "id": "6589e40c",
   "metadata": {},
   "source": [
    "We have created the function `get_books_price` to get the price of all the bestseller books."
   ]
  },
  {
   "cell_type": "markdown",
   "id": "d6908512",
   "metadata": {},
   "source": [
    "### Book URL\n",
    "\n",
    "Let's create a function to get the URL's for each books. Book URL will moves us to a page which will provide more information about the respective book such as book reviews, buying offers, etc."
   ]
  },
  {
   "cell_type": "code",
   "execution_count": 40,
   "id": "a4e4c4f1",
   "metadata": {},
   "outputs": [],
   "source": [
    "def get_books_url(doc):\n",
    "    div_tags = doc.find_all('div', class_='a-column a-span12 a-text-center _cDEzb_grid-column_2hIsc')\n",
    "    base_url = 'https://amazon.in'\n",
    "    books_url = []\n",
    "    for i in range(len(div_tags)):\n",
    "        # Using find method for 'href' attribute to get the url\n",
    "        books_url.append(base_url + div_tags[i].find('a')['href'])\n",
    "    # Returns the list of URLs for all books\n",
    "    return books_url"
   ]
  },
  {
   "cell_type": "markdown",
   "id": "9d1e2dfd",
   "metadata": {},
   "source": [
    "Let's use the above function to get URLs for all the books."
   ]
  },
  {
   "cell_type": "code",
   "execution_count": 41,
   "id": "3dde13fd",
   "metadata": {},
   "outputs": [],
   "source": [
    "books_url = get_books_url(doc)"
   ]
  },
  {
   "cell_type": "code",
   "execution_count": 42,
   "id": "e91b21f8",
   "metadata": {},
   "outputs": [
    {
     "data": {
      "text/plain": [
       "50"
      ]
     },
     "execution_count": 42,
     "metadata": {},
     "output_type": "execute_result"
    }
   ],
   "source": [
    "len(books_url)"
   ]
  },
  {
   "cell_type": "markdown",
   "id": "b7e252fd",
   "metadata": {},
   "source": [
    "The length of urls matches the no. of books present on the web page.\n",
    "\n",
    "Let's see the url of the top 5 books."
   ]
  },
  {
   "cell_type": "code",
   "execution_count": 43,
   "id": "4b47db95",
   "metadata": {},
   "outputs": [
    {
     "data": {
      "text/plain": [
       "['https://amazon.in/Atomic-Habits-James-Clear/dp/1847941834/ref=zg_bs_books_sccl_1/000-0000000-0000000?pd_rd_i=1847941834&psc=1',\n",
       " 'https://amazon.in/Ikigai-H%C3%A9ctor-Garc%C3%ADa/dp/178633089X/ref=zg_bs_books_sccl_2/000-0000000-0000000?pd_rd_i=178633089X&psc=1',\n",
       " 'https://amazon.in/Psychology-Money-Morgan-Housel/dp/9390166268/ref=zg_bs_books_sccl_3/000-0000000-0000000?pd_rd_i=9390166268&psc=1',\n",
       " 'https://amazon.in/Power-Your-Subconscious-Mind/dp/8194790832/ref=zg_bs_books_sccl_4/000-0000000-0000000?pd_rd_i=8194790832&psc=1',\n",
       " 'https://amazon.in/Word-Power-Made-Norman-Lewis/dp/0143424688/ref=zg_bs_books_sccl_5/000-0000000-0000000?pd_rd_i=0143424688&psc=1']"
      ]
     },
     "execution_count": 43,
     "metadata": {},
     "output_type": "execute_result"
    }
   ],
   "source": [
    "books_url[:5]"
   ]
  },
  {
   "cell_type": "markdown",
   "id": "738a4510",
   "metadata": {},
   "source": [
    "We have created the function `get_books_url` to get the URL of all the bestseller books."
   ]
  },
  {
   "cell_type": "markdown",
   "id": "8be572b9",
   "metadata": {},
   "source": [
    "We have created multiple functions such as `get_books_title`, `get_author_names`, `get_star_ratings`, `get_total_ratings`, `get_books_price` and `get_books_url` to extract the required informations such as books title, author name, star rating, total ratings, price and URL from the HTML code respectively, let's move to the next step to compile the information."
   ]
  },
  {
   "cell_type": "markdown",
   "id": "b7a8086a",
   "metadata": {},
   "source": [
    "## Compile the extracted information into a dictionary\n",
    "\n",
    "After creating multiple functions to extract the required informations such as books title, author name, star rating, total ratings, price and URL from the HTML code, let's proceed for compilation of the extracted information into a dictionary."
   ]
  },
  {
   "cell_type": "code",
   "execution_count": 44,
   "id": "5d2b9a5f",
   "metadata": {},
   "outputs": [],
   "source": [
    "books_data = {\n",
    "    'Title' : books_title,\n",
    "    'Author' : author_names,\n",
    "    'Star Rating' : star_ratings,\n",
    "    'Total Ratings' : total_ratings,\n",
    "    'Price' : books_price,\n",
    "    'URL' : books_url\n",
    "}"
   ]
  },
  {
   "cell_type": "markdown",
   "id": "5269f61c",
   "metadata": {},
   "source": [
    "Let's install the `pandas` library to view the values compiled in the dictionary as a pandas dataframe. We can use the `pip` to install the library."
   ]
  },
  {
   "cell_type": "code",
   "execution_count": 45,
   "id": "3624bfe5",
   "metadata": {},
   "outputs": [],
   "source": [
    "!pip install pandas --upgrade --quiet"
   ]
  },
  {
   "cell_type": "markdown",
   "id": "71a607ce",
   "metadata": {},
   "source": [
    "Let's import the `pandas`."
   ]
  },
  {
   "cell_type": "code",
   "execution_count": 46,
   "id": "f835998a",
   "metadata": {},
   "outputs": [],
   "source": [
    "import pandas as pd"
   ]
  },
  {
   "cell_type": "markdown",
   "id": "7cb019a2",
   "metadata": {},
   "source": [
    "`Pandas` is imported. Let's use it to create dataframe from our books_data dictionary."
   ]
  },
  {
   "cell_type": "code",
   "execution_count": 47,
   "id": "639eb44c",
   "metadata": {},
   "outputs": [
    {
     "data": {
      "text/html": [
       "<div>\n",
       "<style scoped>\n",
       "    .dataframe tbody tr th:only-of-type {\n",
       "        vertical-align: middle;\n",
       "    }\n",
       "\n",
       "    .dataframe tbody tr th {\n",
       "        vertical-align: top;\n",
       "    }\n",
       "\n",
       "    .dataframe thead th {\n",
       "        text-align: right;\n",
       "    }\n",
       "</style>\n",
       "<table border=\"1\" class=\"dataframe\">\n",
       "  <thead>\n",
       "    <tr style=\"text-align: right;\">\n",
       "      <th></th>\n",
       "      <th>Title</th>\n",
       "      <th>Author</th>\n",
       "      <th>Star Rating</th>\n",
       "      <th>Total Ratings</th>\n",
       "      <th>Price</th>\n",
       "      <th>URL</th>\n",
       "    </tr>\n",
       "  </thead>\n",
       "  <tbody>\n",
       "    <tr>\n",
       "      <th>0</th>\n",
       "      <td>Atomic Habits: The life-changing million copy ...</td>\n",
       "      <td>James Clear</td>\n",
       "      <td>4.7 out of 5 stars</td>\n",
       "      <td>55,002</td>\n",
       "      <td>₹295.00</td>\n",
       "      <td>https://amazon.in/Atomic-Habits-James-Clear/dp...</td>\n",
       "    </tr>\n",
       "    <tr>\n",
       "      <th>1</th>\n",
       "      <td>Ikigai: The Japanese secret to a long and happ...</td>\n",
       "      <td>Héctor García</td>\n",
       "      <td>4.6 out of 5 stars</td>\n",
       "      <td>36,253</td>\n",
       "      <td>₹298.00</td>\n",
       "      <td>https://amazon.in/Ikigai-H%C3%A9ctor-Garc%C3%A...</td>\n",
       "    </tr>\n",
       "    <tr>\n",
       "      <th>2</th>\n",
       "      <td>The Psychology of Money</td>\n",
       "      <td>Morgan Housel</td>\n",
       "      <td>4.6 out of 5 stars</td>\n",
       "      <td>44,661</td>\n",
       "      <td>₹245.00</td>\n",
       "      <td>https://amazon.in/Psychology-Money-Morgan-Hous...</td>\n",
       "    </tr>\n",
       "    <tr>\n",
       "      <th>3</th>\n",
       "      <td>The Power of Your Subconscious Mind</td>\n",
       "      <td>Joseph Murphy</td>\n",
       "      <td>4.5 out of 5 stars</td>\n",
       "      <td>58,547</td>\n",
       "      <td>₹115.00</td>\n",
       "      <td>https://amazon.in/Power-Your-Subconscious-Mind...</td>\n",
       "    </tr>\n",
       "    <tr>\n",
       "      <th>4</th>\n",
       "      <td>Word Power Made Easy</td>\n",
       "      <td>Norman Lewis</td>\n",
       "      <td>4.4 out of 5 stars</td>\n",
       "      <td>42,134</td>\n",
       "      <td>₹122.00</td>\n",
       "      <td>https://amazon.in/Word-Power-Made-Norman-Lewis...</td>\n",
       "    </tr>\n",
       "    <tr>\n",
       "      <th>5</th>\n",
       "      <td>My First Library: Boxset of 10 Board Books for...</td>\n",
       "      <td>Wonder House Books</td>\n",
       "      <td>4.5 out of 5 stars</td>\n",
       "      <td>60,031</td>\n",
       "      <td>₹399.00</td>\n",
       "      <td>https://amazon.in/My-First-Library-Boxset-Boar...</td>\n",
       "    </tr>\n",
       "    <tr>\n",
       "      <th>6</th>\n",
       "      <td>Rich Dad Poor Dad : What The Rich Teach Their ...</td>\n",
       "      <td>Robert T. Kiyosaki</td>\n",
       "      <td>4.6 out of 5 stars</td>\n",
       "      <td>70,406</td>\n",
       "      <td>₹170.00</td>\n",
       "      <td>https://amazon.in/Rich-Dad-Poor-Middle-Anniver...</td>\n",
       "    </tr>\n",
       "    <tr>\n",
       "      <th>7</th>\n",
       "      <td>It Ends With Us: A Novel: Volume 1</td>\n",
       "      <td>Colleen Hoover</td>\n",
       "      <td>4.5 out of 5 stars</td>\n",
       "      <td>138,104</td>\n",
       "      <td>₹292.00</td>\n",
       "      <td>https://amazon.in/Ends-Us-Novel-Colleen-Hoover...</td>\n",
       "    </tr>\n",
       "    <tr>\n",
       "      <th>8</th>\n",
       "      <td>28 Years UPSC Civil Services IAS Prelims Topic...</td>\n",
       "      <td>Mrunal Patel</td>\n",
       "      <td>4.1 out of 5 stars</td>\n",
       "      <td>166</td>\n",
       "      <td>₹382.00</td>\n",
       "      <td>https://amazon.in/Services-Prelims-Topic-wise-...</td>\n",
       "    </tr>\n",
       "    <tr>\n",
       "      <th>9</th>\n",
       "      <td>You Can</td>\n",
       "      <td>George Matthew Adams</td>\n",
       "      <td>4.5 out of 5 stars</td>\n",
       "      <td>1,313</td>\n",
       "      <td>₹99.00</td>\n",
       "      <td>https://amazon.in/You-Can-George-Matthew-Adams...</td>\n",
       "    </tr>\n",
       "    <tr>\n",
       "      <th>10</th>\n",
       "      <td>CBSE All In One Science Class 10 2022-23 Editi...</td>\n",
       "      <td>Rashmi Gupta Sonal Singh ,Ruchi Kapoor,Imran A...</td>\n",
       "      <td>4.4 out of 5 stars</td>\n",
       "      <td>524</td>\n",
       "      <td>₹355.00</td>\n",
       "      <td>https://amazon.in/Science-2022-23-latest-Sylla...</td>\n",
       "    </tr>\n",
       "    <tr>\n",
       "      <th>11</th>\n",
       "      <td>Trading Chart Breakout Pattern &amp; Candlestick P...</td>\n",
       "      <td>Akash Kundur</td>\n",
       "      <td>4.2 out of 5 stars</td>\n",
       "      <td>494</td>\n",
       "      <td>₹199.00</td>\n",
       "      <td>https://amazon.in/Trading-Breakout-Pattern-Can...</td>\n",
       "    </tr>\n",
       "    <tr>\n",
       "      <th>12</th>\n",
       "      <td>The Power of Your Subconscious Mind</td>\n",
       "      <td>Joseph Murphy</td>\n",
       "      <td>4.5 out of 5 stars</td>\n",
       "      <td>58,547</td>\n",
       "      <td>₹105.00</td>\n",
       "      <td>https://amazon.in/Power-Your-Subconscious-Mind...</td>\n",
       "    </tr>\n",
       "    <tr>\n",
       "      <th>13</th>\n",
       "      <td>Life's Amazing Secrets: How to Find Balance an...</td>\n",
       "      <td>Gaur Gopal Das</td>\n",
       "      <td>4.6 out of 5 stars</td>\n",
       "      <td>16,962</td>\n",
       "      <td>₹162.00</td>\n",
       "      <td>https://amazon.in/Lifes-Amazing-Secrets-Balanc...</td>\n",
       "    </tr>\n",
       "    <tr>\n",
       "      <th>14</th>\n",
       "      <td>How to Win Friends and Influence People</td>\n",
       "      <td>Dale Carnegie</td>\n",
       "      <td>4.5 out of 5 stars</td>\n",
       "      <td>73,083</td>\n",
       "      <td>₹99.00</td>\n",
       "      <td>https://amazon.in/How-Win-Friends-Influence-Pe...</td>\n",
       "    </tr>\n",
       "    <tr>\n",
       "      <th>15</th>\n",
       "      <td>CBSE All In One Social Science Class 10 2022-2...</td>\n",
       "      <td>Farah Sultan Madhumita Pattrea</td>\n",
       "      <td>4.3 out of 5 stars</td>\n",
       "      <td>203</td>\n",
       "      <td>₹309.00</td>\n",
       "      <td>https://amazon.in/Social-Science-2022-23-lates...</td>\n",
       "    </tr>\n",
       "    <tr>\n",
       "      <th>16</th>\n",
       "      <td>Grandma's Bag of Stories: Collection of 20+ Il...</td>\n",
       "      <td>Sudha Murty</td>\n",
       "      <td>4.6 out of 5 stars</td>\n",
       "      <td>15,599</td>\n",
       "      <td>₹170.00</td>\n",
       "      <td>https://amazon.in/Grandmas-Bag-Stories-Sudha-M...</td>\n",
       "    </tr>\n",
       "    <tr>\n",
       "      <th>17</th>\n",
       "      <td>The Alchemist</td>\n",
       "      <td>Paulo Coelho</td>\n",
       "      <td>4.6 out of 5 stars</td>\n",
       "      <td>89,823</td>\n",
       "      <td>₹238.00</td>\n",
       "      <td>https://amazon.in/Alchemist-Paulo-Coelho/dp/81...</td>\n",
       "    </tr>\n",
       "    <tr>\n",
       "      <th>18</th>\n",
       "      <td>Oxford Student Atlas for India, Fourth Edition...</td>\n",
       "      <td>Oxford University Press</td>\n",
       "      <td>4.4 out of 5 stars</td>\n",
       "      <td>4,590</td>\n",
       "      <td>₹183.00</td>\n",
       "      <td>https://amazon.in/Oxford-Student-Atlas-India-F...</td>\n",
       "    </tr>\n",
       "    <tr>\n",
       "      <th>19</th>\n",
       "      <td>Brijbhoomi Books And Handicrafts® Bhagavad Git...</td>\n",
       "      <td>Brijbhoomi Books And Handicrafts</td>\n",
       "      <td>4.8 out of 5 stars</td>\n",
       "      <td>13,013</td>\n",
       "      <td>₹170.00</td>\n",
       "      <td>https://amazon.in/Bhagavad-Gita-Bhaktivendanta...</td>\n",
       "    </tr>\n",
       "    <tr>\n",
       "      <th>20</th>\n",
       "      <td>International Mathematics Olympiad (IMO) Work ...</td>\n",
       "      <td>MAHABIR SINGH</td>\n",
       "      <td>4.3 out of 5 stars</td>\n",
       "      <td>64</td>\n",
       "      <td>₹44.00</td>\n",
       "      <td>https://amazon.in/International-Mathematics-Ol...</td>\n",
       "    </tr>\n",
       "    <tr>\n",
       "      <th>21</th>\n",
       "      <td>Concept of Physics by H.C Verma Part - I - Ses...</td>\n",
       "      <td>H.C. Verma</td>\n",
       "      <td>4.6 out of 5 stars</td>\n",
       "      <td>11,029</td>\n",
       "      <td>₹411.00</td>\n",
       "      <td>https://amazon.in/Concept-Physics-Part-1-2018-...</td>\n",
       "    </tr>\n",
       "    <tr>\n",
       "      <th>22</th>\n",
       "      <td>The Answer Writing Manual for UPSC Civil Servi...</td>\n",
       "      <td>Srushti Deshmukh Gowda IAS</td>\n",
       "      <td>4.7 out of 5 stars</td>\n",
       "      <td>603</td>\n",
       "      <td>₹359.00</td>\n",
       "      <td>https://amazon.in/Answer-Writing-Manual-Servic...</td>\n",
       "    </tr>\n",
       "    <tr>\n",
       "      <th>23</th>\n",
       "      <td>Brain Activity Book for Kids - 200+ Activities...</td>\n",
       "      <td>Maple Press</td>\n",
       "      <td>4.5 out of 5 stars</td>\n",
       "      <td>1,383</td>\n",
       "      <td>₹94.00</td>\n",
       "      <td>https://amazon.in/Brain-Activity-Book-Kids-Act...</td>\n",
       "    </tr>\n",
       "    <tr>\n",
       "      <th>24</th>\n",
       "      <td>The Courage To Be Disliked: How to free yourse...</td>\n",
       "      <td>Ichiro Kishimi and Fumitake Koga</td>\n",
       "      <td>4.5 out of 5 stars</td>\n",
       "      <td>5,460</td>\n",
       "      <td>₹332.00</td>\n",
       "      <td>https://amazon.in/Courage-Disliked-Ichiro-Kish...</td>\n",
       "    </tr>\n",
       "    <tr>\n",
       "      <th>25</th>\n",
       "      <td>War of Lanka (Ram Chandra Series Book 4)</td>\n",
       "      <td>Amish Tripathi</td>\n",
       "      <td>NA</td>\n",
       "      <td>NA</td>\n",
       "      <td>₹380.00</td>\n",
       "      <td>https://amazon.in/War-Lanka-Ram-Chandra-Book/d...</td>\n",
       "    </tr>\n",
       "    <tr>\n",
       "      <th>26</th>\n",
       "      <td>Indian Polity ( English| 6th Revised Edition) ...</td>\n",
       "      <td>M Laxmikanth</td>\n",
       "      <td>4.5 out of 5 stars</td>\n",
       "      <td>1,943</td>\n",
       "      <td>₹725.00</td>\n",
       "      <td>https://amazon.in/Indian-English-Revised-Servi...</td>\n",
       "    </tr>\n",
       "    <tr>\n",
       "      <th>27</th>\n",
       "      <td>Rich Dad Poor Dad - 20Th Anniversary Edition -...</td>\n",
       "      <td>Robert T. Kiyosaki</td>\n",
       "      <td>4.5 out of 5 stars</td>\n",
       "      <td>12,060</td>\n",
       "      <td>₹208.00</td>\n",
       "      <td>https://amazon.in/Rich-Dad-Poor-Robert-Kiyosak...</td>\n",
       "    </tr>\n",
       "    <tr>\n",
       "      <th>28</th>\n",
       "      <td>Best of Children’s Classics (Set of 5 Books): ...</td>\n",
       "      <td>Antoine de Saint-Exupéry</td>\n",
       "      <td>4.4 out of 5 stars</td>\n",
       "      <td>4,762</td>\n",
       "      <td>₹499.00</td>\n",
       "      <td>https://amazon.in/Best-Childrens-Classics-Set-...</td>\n",
       "    </tr>\n",
       "    <tr>\n",
       "      <th>29</th>\n",
       "      <td>International Mathematics Olympiad (IMO) Work ...</td>\n",
       "      <td>MAHABIR SINGH</td>\n",
       "      <td>4.4 out of 5 stars</td>\n",
       "      <td>70</td>\n",
       "      <td>₹72.00</td>\n",
       "      <td>https://amazon.in/International-Mathematics-Ol...</td>\n",
       "    </tr>\n",
       "    <tr>\n",
       "      <th>30</th>\n",
       "      <td>Oswaal CBSE Class 10 Science Chapterwise &amp; Top...</td>\n",
       "      <td>Oswaal Editorial Board</td>\n",
       "      <td>4.5 out of 5 stars</td>\n",
       "      <td>137</td>\n",
       "      <td>₹453.00</td>\n",
       "      <td>https://amazon.in/Science-Chapterwise-Topicwis...</td>\n",
       "    </tr>\n",
       "    <tr>\n",
       "      <th>31</th>\n",
       "      <td>MTG Objective NCERT at your FINGERTIPS - Biolo...</td>\n",
       "      <td>MTG Editorial Board</td>\n",
       "      <td>4.5 out of 5 stars</td>\n",
       "      <td>1,802</td>\n",
       "      <td>₹583.00</td>\n",
       "      <td>https://amazon.in/MTG-Objective-NCERT-your-FIN...</td>\n",
       "    </tr>\n",
       "    <tr>\n",
       "      <th>32</th>\n",
       "      <td>Quantitative Aptitude for Competitive Examinat...</td>\n",
       "      <td>R S Aggarwal</td>\n",
       "      <td>4.4 out of 5 stars</td>\n",
       "      <td>27,378</td>\n",
       "      <td>₹469.00</td>\n",
       "      <td>https://amazon.in/Quantitative-Aptitude-Compet...</td>\n",
       "    </tr>\n",
       "    <tr>\n",
       "      <th>33</th>\n",
       "      <td>The Almanack Of Naval Ravikant: A Guide to Wea...</td>\n",
       "      <td>Eric Jorgenson</td>\n",
       "      <td>4.7 out of 5 stars</td>\n",
       "      <td>8,133</td>\n",
       "      <td>₹198.00</td>\n",
       "      <td>https://amazon.in/Almanack-Naval-Ravikant-Weal...</td>\n",
       "    </tr>\n",
       "    <tr>\n",
       "      <th>34</th>\n",
       "      <td>My First Mythology Tale (Illustrated) (Set of ...</td>\n",
       "      <td>Maple Press</td>\n",
       "      <td>4.4 out of 5 stars</td>\n",
       "      <td>4,974</td>\n",
       "      <td>₹199.00</td>\n",
       "      <td>https://amazon.in/First-Mythology-Tale-Illustr...</td>\n",
       "    </tr>\n",
       "    <tr>\n",
       "      <th>35</th>\n",
       "      <td>सरल पठनीय श्रीमद्भगवद्गीता (द्वितीय संस्करण) S...</td>\n",
       "      <td>GEETA PARIWAR</td>\n",
       "      <td>5.0 out of 5 stars</td>\n",
       "      <td>59</td>\n",
       "      <td>₹169.00</td>\n",
       "      <td>https://amazon.in/%E0%A4%B6%E0%A5%8D%E0%A4%B0%...</td>\n",
       "    </tr>\n",
       "    <tr>\n",
       "      <th>36</th>\n",
       "      <td>Mathematics for Class 10 - CBSE - by R.D. Shar...</td>\n",
       "      <td>R.D. Sharma</td>\n",
       "      <td>4.5 out of 5 stars</td>\n",
       "      <td>1,027</td>\n",
       "      <td>₹635.00</td>\n",
       "      <td>https://amazon.in/Mathematics-Class-10-Examina...</td>\n",
       "    </tr>\n",
       "    <tr>\n",
       "      <th>37</th>\n",
       "      <td>Picture Books Collection for Early Learning (S...</td>\n",
       "      <td>E C Axus</td>\n",
       "      <td>4.3 out of 5 stars</td>\n",
       "      <td>16,274</td>\n",
       "      <td>₹230.00</td>\n",
       "      <td>https://amazon.in/Picture-Books-Collection-Ear...</td>\n",
       "    </tr>\n",
       "    <tr>\n",
       "      <th>38</th>\n",
       "      <td>International Mathematics Olympiad (IMO) Work ...</td>\n",
       "      <td>MAHABIR SINGH</td>\n",
       "      <td>4.5 out of 5 stars</td>\n",
       "      <td>34</td>\n",
       "      <td>₹44.00</td>\n",
       "      <td>https://amazon.in/International-Mathematics-Ol...</td>\n",
       "    </tr>\n",
       "    <tr>\n",
       "      <th>39</th>\n",
       "      <td>The Subtle Art of Not Giving a F*ck: A Counter...</td>\n",
       "      <td>Mark Manson</td>\n",
       "      <td>4.5 out of 5 stars</td>\n",
       "      <td>75,438</td>\n",
       "      <td>₹292.00</td>\n",
       "      <td>https://amazon.in/Subtle-Art-Not-Giving/dp/006...</td>\n",
       "    </tr>\n",
       "    <tr>\n",
       "      <th>40</th>\n",
       "      <td>Attitude Is Everything: Change Your Attitude ....</td>\n",
       "      <td>Jeff Keller</td>\n",
       "      <td>4.5 out of 5 stars</td>\n",
       "      <td>19,126</td>\n",
       "      <td>₹139.30</td>\n",
       "      <td>https://amazon.in/Attitude-Everything-Change-Y...</td>\n",
       "    </tr>\n",
       "    <tr>\n",
       "      <th>41</th>\n",
       "      <td>My First Book of Pencil Control : Practice Pat...</td>\n",
       "      <td>Wonder House Books</td>\n",
       "      <td>4.4 out of 5 stars</td>\n",
       "      <td>20,560</td>\n",
       "      <td>₹89.00</td>\n",
       "      <td>https://amazon.in/First-Book-Patterns-Pencil-C...</td>\n",
       "    </tr>\n",
       "    <tr>\n",
       "      <th>42</th>\n",
       "      <td>Oswaal CBSE Class 10 Social Science Chapterwis...</td>\n",
       "      <td>Oswaal Editorial Board</td>\n",
       "      <td>4.3 out of 5 stars</td>\n",
       "      <td>119</td>\n",
       "      <td>₹448.00</td>\n",
       "      <td>https://amazon.in/Science-Chapterwise-Topicwis...</td>\n",
       "    </tr>\n",
       "    <tr>\n",
       "      <th>43</th>\n",
       "      <td>International Mathematics Olympiad (IMO) Work ...</td>\n",
       "      <td>MAHABIR SINGH</td>\n",
       "      <td>4.7 out of 5 stars</td>\n",
       "      <td>36</td>\n",
       "      <td>₹44.00</td>\n",
       "      <td>https://amazon.in/International-Mathematics-Ol...</td>\n",
       "    </tr>\n",
       "    <tr>\n",
       "      <th>44</th>\n",
       "      <td>World’s Greatest Books For Personal Growth &amp; W...</td>\n",
       "      <td>Dale Carnegie</td>\n",
       "      <td>4.5 out of 5 stars</td>\n",
       "      <td>20,180</td>\n",
       "      <td>₹299.00</td>\n",
       "      <td>https://amazon.in/Worlds-Greatest-Personal-Gro...</td>\n",
       "    </tr>\n",
       "    <tr>\n",
       "      <th>45</th>\n",
       "      <td>The Power of Your Subconscious Mind (PREMIUM P...</td>\n",
       "      <td>Dr Joseph Murphy</td>\n",
       "      <td>4.5 out of 5 stars</td>\n",
       "      <td>3,305</td>\n",
       "      <td>₹84.00</td>\n",
       "      <td>https://amazon.in/Power-Subconscious-Premium-P...</td>\n",
       "    </tr>\n",
       "    <tr>\n",
       "      <th>46</th>\n",
       "      <td>Autobiography of a Yogi</td>\n",
       "      <td>Paramahansa Yogananda</td>\n",
       "      <td>4.6 out of 5 stars</td>\n",
       "      <td>7,980</td>\n",
       "      <td>₹99.00</td>\n",
       "      <td>https://amazon.in/Autobiography-Yogi-Paramahan...</td>\n",
       "    </tr>\n",
       "    <tr>\n",
       "      <th>47</th>\n",
       "      <td>The Official Cambridge Guide To Ielts Student'...</td>\n",
       "      <td>Pauline Cullen</td>\n",
       "      <td>4.4 out of 5 stars</td>\n",
       "      <td>5,244</td>\n",
       "      <td>₹514.00</td>\n",
       "      <td>https://amazon.in/Official-Cambridge-Guide-Stu...</td>\n",
       "    </tr>\n",
       "    <tr>\n",
       "      <th>48</th>\n",
       "      <td>Think &amp; Grow Rich (Hindi)</td>\n",
       "      <td>Napoleon Hill</td>\n",
       "      <td>4.3 out of 5 stars</td>\n",
       "      <td>5,126</td>\n",
       "      <td>₹99.00</td>\n",
       "      <td>https://amazon.in/Think-Grow-Rich-Hindi-Napole...</td>\n",
       "    </tr>\n",
       "    <tr>\n",
       "      <th>49</th>\n",
       "      <td>Moral Story Books for Kids (Pack of 10 Books) ...</td>\n",
       "      <td>Young Angels Publishing</td>\n",
       "      <td>4.3 out of 5 stars</td>\n",
       "      <td>5,208</td>\n",
       "      <td>₹249.00</td>\n",
       "      <td>https://amazon.in/Moral-Story-Books-Illustrate...</td>\n",
       "    </tr>\n",
       "  </tbody>\n",
       "</table>\n",
       "</div>"
      ],
      "text/plain": [
       "                                                Title  \\\n",
       "0   Atomic Habits: The life-changing million copy ...   \n",
       "1   Ikigai: The Japanese secret to a long and happ...   \n",
       "2                             The Psychology of Money   \n",
       "3                 The Power of Your Subconscious Mind   \n",
       "4                                Word Power Made Easy   \n",
       "5   My First Library: Boxset of 10 Board Books for...   \n",
       "6   Rich Dad Poor Dad : What The Rich Teach Their ...   \n",
       "7                  It Ends With Us: A Novel: Volume 1   \n",
       "8   28 Years UPSC Civil Services IAS Prelims Topic...   \n",
       "9                                             You Can   \n",
       "10  CBSE All In One Science Class 10 2022-23 Editi...   \n",
       "11  Trading Chart Breakout Pattern & Candlestick P...   \n",
       "12                The Power of Your Subconscious Mind   \n",
       "13  Life's Amazing Secrets: How to Find Balance an...   \n",
       "14            How to Win Friends and Influence People   \n",
       "15  CBSE All In One Social Science Class 10 2022-2...   \n",
       "16  Grandma's Bag of Stories: Collection of 20+ Il...   \n",
       "17                                      The Alchemist   \n",
       "18  Oxford Student Atlas for India, Fourth Edition...   \n",
       "19  Brijbhoomi Books And Handicrafts® Bhagavad Git...   \n",
       "20  International Mathematics Olympiad (IMO) Work ...   \n",
       "21  Concept of Physics by H.C Verma Part - I - Ses...   \n",
       "22  The Answer Writing Manual for UPSC Civil Servi...   \n",
       "23  Brain Activity Book for Kids - 200+ Activities...   \n",
       "24  The Courage To Be Disliked: How to free yourse...   \n",
       "25           War of Lanka (Ram Chandra Series Book 4)   \n",
       "26  Indian Polity ( English| 6th Revised Edition) ...   \n",
       "27  Rich Dad Poor Dad - 20Th Anniversary Edition -...   \n",
       "28  Best of Children’s Classics (Set of 5 Books): ...   \n",
       "29  International Mathematics Olympiad (IMO) Work ...   \n",
       "30  Oswaal CBSE Class 10 Science Chapterwise & Top...   \n",
       "31  MTG Objective NCERT at your FINGERTIPS - Biolo...   \n",
       "32  Quantitative Aptitude for Competitive Examinat...   \n",
       "33  The Almanack Of Naval Ravikant: A Guide to Wea...   \n",
       "34  My First Mythology Tale (Illustrated) (Set of ...   \n",
       "35  सरल पठनीय श्रीमद्भगवद्गीता (द्वितीय संस्करण) S...   \n",
       "36  Mathematics for Class 10 - CBSE - by R.D. Shar...   \n",
       "37  Picture Books Collection for Early Learning (S...   \n",
       "38  International Mathematics Olympiad (IMO) Work ...   \n",
       "39  The Subtle Art of Not Giving a F*ck: A Counter...   \n",
       "40  Attitude Is Everything: Change Your Attitude ....   \n",
       "41  My First Book of Pencil Control : Practice Pat...   \n",
       "42  Oswaal CBSE Class 10 Social Science Chapterwis...   \n",
       "43  International Mathematics Olympiad (IMO) Work ...   \n",
       "44  World’s Greatest Books For Personal Growth & W...   \n",
       "45  The Power of Your Subconscious Mind (PREMIUM P...   \n",
       "46                            Autobiography of a Yogi   \n",
       "47  The Official Cambridge Guide To Ielts Student'...   \n",
       "48                          Think & Grow Rich (Hindi)   \n",
       "49  Moral Story Books for Kids (Pack of 10 Books) ...   \n",
       "\n",
       "                                               Author         Star Rating  \\\n",
       "0                                         James Clear  4.7 out of 5 stars   \n",
       "1                                       Héctor García  4.6 out of 5 stars   \n",
       "2                                       Morgan Housel  4.6 out of 5 stars   \n",
       "3                                       Joseph Murphy  4.5 out of 5 stars   \n",
       "4                                        Norman Lewis  4.4 out of 5 stars   \n",
       "5                                  Wonder House Books  4.5 out of 5 stars   \n",
       "6                                  Robert T. Kiyosaki  4.6 out of 5 stars   \n",
       "7                                      Colleen Hoover  4.5 out of 5 stars   \n",
       "8                                        Mrunal Patel  4.1 out of 5 stars   \n",
       "9                                George Matthew Adams  4.5 out of 5 stars   \n",
       "10  Rashmi Gupta Sonal Singh ,Ruchi Kapoor,Imran A...  4.4 out of 5 stars   \n",
       "11                                       Akash Kundur  4.2 out of 5 stars   \n",
       "12                                      Joseph Murphy  4.5 out of 5 stars   \n",
       "13                                     Gaur Gopal Das  4.6 out of 5 stars   \n",
       "14                                      Dale Carnegie  4.5 out of 5 stars   \n",
       "15                     Farah Sultan Madhumita Pattrea  4.3 out of 5 stars   \n",
       "16                                        Sudha Murty  4.6 out of 5 stars   \n",
       "17                                       Paulo Coelho  4.6 out of 5 stars   \n",
       "18                            Oxford University Press  4.4 out of 5 stars   \n",
       "19                   Brijbhoomi Books And Handicrafts  4.8 out of 5 stars   \n",
       "20                                      MAHABIR SINGH  4.3 out of 5 stars   \n",
       "21                                         H.C. Verma  4.6 out of 5 stars   \n",
       "22                         Srushti Deshmukh Gowda IAS  4.7 out of 5 stars   \n",
       "23                                        Maple Press  4.5 out of 5 stars   \n",
       "24                   Ichiro Kishimi and Fumitake Koga  4.5 out of 5 stars   \n",
       "25                                     Amish Tripathi                  NA   \n",
       "26                                       M Laxmikanth  4.5 out of 5 stars   \n",
       "27                                 Robert T. Kiyosaki  4.5 out of 5 stars   \n",
       "28                           Antoine de Saint-Exupéry  4.4 out of 5 stars   \n",
       "29                                      MAHABIR SINGH  4.4 out of 5 stars   \n",
       "30                             Oswaal Editorial Board  4.5 out of 5 stars   \n",
       "31                                MTG Editorial Board  4.5 out of 5 stars   \n",
       "32                                       R S Aggarwal  4.4 out of 5 stars   \n",
       "33                                     Eric Jorgenson  4.7 out of 5 stars   \n",
       "34                                        Maple Press  4.4 out of 5 stars   \n",
       "35                                      GEETA PARIWAR  5.0 out of 5 stars   \n",
       "36                                        R.D. Sharma  4.5 out of 5 stars   \n",
       "37                                           E C Axus  4.3 out of 5 stars   \n",
       "38                                      MAHABIR SINGH  4.5 out of 5 stars   \n",
       "39                                        Mark Manson  4.5 out of 5 stars   \n",
       "40                                        Jeff Keller  4.5 out of 5 stars   \n",
       "41                                 Wonder House Books  4.4 out of 5 stars   \n",
       "42                             Oswaal Editorial Board  4.3 out of 5 stars   \n",
       "43                                      MAHABIR SINGH  4.7 out of 5 stars   \n",
       "44                                      Dale Carnegie  4.5 out of 5 stars   \n",
       "45                                   Dr Joseph Murphy  4.5 out of 5 stars   \n",
       "46                              Paramahansa Yogananda  4.6 out of 5 stars   \n",
       "47                                     Pauline Cullen  4.4 out of 5 stars   \n",
       "48                                      Napoleon Hill  4.3 out of 5 stars   \n",
       "49                            Young Angels Publishing  4.3 out of 5 stars   \n",
       "\n",
       "   Total Ratings    Price                                                URL  \n",
       "0         55,002  ₹295.00  https://amazon.in/Atomic-Habits-James-Clear/dp...  \n",
       "1         36,253  ₹298.00  https://amazon.in/Ikigai-H%C3%A9ctor-Garc%C3%A...  \n",
       "2         44,661  ₹245.00  https://amazon.in/Psychology-Money-Morgan-Hous...  \n",
       "3         58,547  ₹115.00  https://amazon.in/Power-Your-Subconscious-Mind...  \n",
       "4         42,134  ₹122.00  https://amazon.in/Word-Power-Made-Norman-Lewis...  \n",
       "5         60,031  ₹399.00  https://amazon.in/My-First-Library-Boxset-Boar...  \n",
       "6         70,406  ₹170.00  https://amazon.in/Rich-Dad-Poor-Middle-Anniver...  \n",
       "7        138,104  ₹292.00  https://amazon.in/Ends-Us-Novel-Colleen-Hoover...  \n",
       "8            166  ₹382.00  https://amazon.in/Services-Prelims-Topic-wise-...  \n",
       "9          1,313   ₹99.00  https://amazon.in/You-Can-George-Matthew-Adams...  \n",
       "10           524  ₹355.00  https://amazon.in/Science-2022-23-latest-Sylla...  \n",
       "11           494  ₹199.00  https://amazon.in/Trading-Breakout-Pattern-Can...  \n",
       "12        58,547  ₹105.00  https://amazon.in/Power-Your-Subconscious-Mind...  \n",
       "13        16,962  ₹162.00  https://amazon.in/Lifes-Amazing-Secrets-Balanc...  \n",
       "14        73,083   ₹99.00  https://amazon.in/How-Win-Friends-Influence-Pe...  \n",
       "15           203  ₹309.00  https://amazon.in/Social-Science-2022-23-lates...  \n",
       "16        15,599  ₹170.00  https://amazon.in/Grandmas-Bag-Stories-Sudha-M...  \n",
       "17        89,823  ₹238.00  https://amazon.in/Alchemist-Paulo-Coelho/dp/81...  \n",
       "18         4,590  ₹183.00  https://amazon.in/Oxford-Student-Atlas-India-F...  \n",
       "19        13,013  ₹170.00  https://amazon.in/Bhagavad-Gita-Bhaktivendanta...  \n",
       "20            64   ₹44.00  https://amazon.in/International-Mathematics-Ol...  \n",
       "21        11,029  ₹411.00  https://amazon.in/Concept-Physics-Part-1-2018-...  \n",
       "22           603  ₹359.00  https://amazon.in/Answer-Writing-Manual-Servic...  \n",
       "23         1,383   ₹94.00  https://amazon.in/Brain-Activity-Book-Kids-Act...  \n",
       "24         5,460  ₹332.00  https://amazon.in/Courage-Disliked-Ichiro-Kish...  \n",
       "25            NA  ₹380.00  https://amazon.in/War-Lanka-Ram-Chandra-Book/d...  \n",
       "26         1,943  ₹725.00  https://amazon.in/Indian-English-Revised-Servi...  \n",
       "27        12,060  ₹208.00  https://amazon.in/Rich-Dad-Poor-Robert-Kiyosak...  \n",
       "28         4,762  ₹499.00  https://amazon.in/Best-Childrens-Classics-Set-...  \n",
       "29            70   ₹72.00  https://amazon.in/International-Mathematics-Ol...  \n",
       "30           137  ₹453.00  https://amazon.in/Science-Chapterwise-Topicwis...  \n",
       "31         1,802  ₹583.00  https://amazon.in/MTG-Objective-NCERT-your-FIN...  \n",
       "32        27,378  ₹469.00  https://amazon.in/Quantitative-Aptitude-Compet...  \n",
       "33         8,133  ₹198.00  https://amazon.in/Almanack-Naval-Ravikant-Weal...  \n",
       "34         4,974  ₹199.00  https://amazon.in/First-Mythology-Tale-Illustr...  \n",
       "35            59  ₹169.00  https://amazon.in/%E0%A4%B6%E0%A5%8D%E0%A4%B0%...  \n",
       "36         1,027  ₹635.00  https://amazon.in/Mathematics-Class-10-Examina...  \n",
       "37        16,274  ₹230.00  https://amazon.in/Picture-Books-Collection-Ear...  \n",
       "38            34   ₹44.00  https://amazon.in/International-Mathematics-Ol...  \n",
       "39        75,438  ₹292.00  https://amazon.in/Subtle-Art-Not-Giving/dp/006...  \n",
       "40        19,126  ₹139.30  https://amazon.in/Attitude-Everything-Change-Y...  \n",
       "41        20,560   ₹89.00  https://amazon.in/First-Book-Patterns-Pencil-C...  \n",
       "42           119  ₹448.00  https://amazon.in/Science-Chapterwise-Topicwis...  \n",
       "43            36   ₹44.00  https://amazon.in/International-Mathematics-Ol...  \n",
       "44        20,180  ₹299.00  https://amazon.in/Worlds-Greatest-Personal-Gro...  \n",
       "45         3,305   ₹84.00  https://amazon.in/Power-Subconscious-Premium-P...  \n",
       "46         7,980   ₹99.00  https://amazon.in/Autobiography-Yogi-Paramahan...  \n",
       "47         5,244  ₹514.00  https://amazon.in/Official-Cambridge-Guide-Stu...  \n",
       "48         5,126   ₹99.00  https://amazon.in/Think-Grow-Rich-Hindi-Napole...  \n",
       "49         5,208  ₹249.00  https://amazon.in/Moral-Story-Books-Illustrate...  "
      ]
     },
     "execution_count": 47,
     "metadata": {},
     "output_type": "execute_result"
    }
   ],
   "source": [
    "pd.DataFrame(books_data)"
   ]
  },
  {
   "cell_type": "markdown",
   "id": "8659315c",
   "metadata": {},
   "source": [
    "We have compiled the books data into a dictionary and with the use of pandas, we have created a dataframe which contains 50 elements."
   ]
  },
  {
   "cell_type": "markdown",
   "id": "ad050b6f",
   "metadata": {},
   "source": [
    "## Extract and combine data from both pages"
   ]
  },
  {
   "cell_type": "markdown",
   "id": "65e31a31",
   "metadata": {},
   "source": [
    "Up until now, we are able to extract data from a single page. Now, let's create a function to parse multiple web pages and extract the data from all of them."
   ]
  },
  {
   "cell_type": "code",
   "execution_count": 48,
   "id": "32f35c3f",
   "metadata": {},
   "outputs": [],
   "source": [
    "def get_pages(page_number):\n",
    "    doc = select_page(page_number)\n",
    "    books_title = get_books_title(doc)\n",
    "    author_names = get_author_names(doc)\n",
    "    star_ratings = get_star_ratings(doc)\n",
    "    total_ratings = get_total_ratings(doc)\n",
    "    books_price = get_books_price(doc)\n",
    "    books_url = get_books_url(doc)\n",
    "    return books_title, author_names, star_ratings, total_ratings, books_price, books_url"
   ]
  },
  {
   "cell_type": "markdown",
   "id": "9ef43c82",
   "metadata": {},
   "source": [
    "We have created a function to extract the data from different web pages based on the page number.\n",
    "\n",
    "Let's create a function to extract data form both pages and compile it into a dictionary. For that we'll need to import `time` library to provide a break time for switching from one page to another page otherwise the web page won't allow us to parse it."
   ]
  },
  {
   "cell_type": "code",
   "execution_count": 49,
   "id": "35eda533",
   "metadata": {},
   "outputs": [],
   "source": [
    "import time"
   ]
  },
  {
   "cell_type": "code",
   "execution_count": 50,
   "id": "785febd7",
   "metadata": {},
   "outputs": [],
   "source": [
    "def parse_amazon_bestseller_books_pages(n):\n",
    "    all_books_title, all_author_names, all_star_ratings, all_total_ratings, all_books_price, all_books_url = [],[],[],[],[],[]\n",
    "    all_books_data = {\n",
    "    'Title' : all_books_title,\n",
    "    'Author' : all_author_names,\n",
    "    'Star Rating' : all_star_ratings,\n",
    "    'Total Ratings' : all_total_ratings,\n",
    "    'Price' : all_books_price,\n",
    "    'URL' : all_books_url\n",
    "    }    \n",
    "    for page_number in range (1,n+1):\n",
    "        books_title, author_names, star_ratings, total_ratings, books_price, books_url = get_pages(page_number)\n",
    "        all_books_title += books_title \n",
    "        all_author_names += author_names\n",
    "        all_star_ratings += star_ratings\n",
    "        all_total_ratings += total_ratings\n",
    "        all_books_price += books_price\n",
    "        all_books_url += books_url\n",
    "        # Give sleep time of 30 seconds before moving to next page \n",
    "        time.sleep(30)\n",
    "    return all_books_data   "
   ]
  },
  {
   "cell_type": "markdown",
   "id": "229757cb",
   "metadata": {},
   "source": [
    "We have created the function to extract data from both pages and present them in the form of dictionary."
   ]
  },
  {
   "cell_type": "code",
   "execution_count": null,
   "id": "8d7b8c26",
   "metadata": {},
   "outputs": [],
   "source": [
    "all_books_data = parse_amazon_bestseller_books_pages(2)"
   ]
  },
  {
   "cell_type": "markdown",
   "id": "0fe4a442",
   "metadata": {},
   "source": [
    "Let's show the books data into a pandas dataframe structure."
   ]
  },
  {
   "cell_type": "code",
   "execution_count": 94,
   "id": "be0ba299",
   "metadata": {},
   "outputs": [],
   "source": [
    "dataframe = pd.DataFrame(all_books_data)"
   ]
  },
  {
   "cell_type": "code",
   "execution_count": 95,
   "id": "103f6ce8",
   "metadata": {},
   "outputs": [
    {
     "data": {
      "text/html": [
       "<div>\n",
       "<style scoped>\n",
       "    .dataframe tbody tr th:only-of-type {\n",
       "        vertical-align: middle;\n",
       "    }\n",
       "\n",
       "    .dataframe tbody tr th {\n",
       "        vertical-align: top;\n",
       "    }\n",
       "\n",
       "    .dataframe thead th {\n",
       "        text-align: right;\n",
       "    }\n",
       "</style>\n",
       "<table border=\"1\" class=\"dataframe\">\n",
       "  <thead>\n",
       "    <tr style=\"text-align: right;\">\n",
       "      <th></th>\n",
       "      <th>Title</th>\n",
       "      <th>Author</th>\n",
       "      <th>Star Rating</th>\n",
       "      <th>Total Ratings</th>\n",
       "      <th>Price</th>\n",
       "      <th>URL</th>\n",
       "    </tr>\n",
       "  </thead>\n",
       "  <tbody>\n",
       "    <tr>\n",
       "      <th>0</th>\n",
       "      <td>Atomic Habits: The life-changing million copy ...</td>\n",
       "      <td>James Clear</td>\n",
       "      <td>4.7 out of 5 stars</td>\n",
       "      <td>55,002</td>\n",
       "      <td>₹295.00</td>\n",
       "      <td>https://amazon.in/Atomic-Habits-James-Clear/dp...</td>\n",
       "    </tr>\n",
       "    <tr>\n",
       "      <th>1</th>\n",
       "      <td>Ikigai: The Japanese secret to a long and happ...</td>\n",
       "      <td>Héctor García</td>\n",
       "      <td>4.6 out of 5 stars</td>\n",
       "      <td>36,253</td>\n",
       "      <td>₹298.00</td>\n",
       "      <td>https://amazon.in/Ikigai-H%C3%A9ctor-Garc%C3%A...</td>\n",
       "    </tr>\n",
       "    <tr>\n",
       "      <th>2</th>\n",
       "      <td>The Psychology of Money</td>\n",
       "      <td>Morgan Housel</td>\n",
       "      <td>4.6 out of 5 stars</td>\n",
       "      <td>44,661</td>\n",
       "      <td>₹245.00</td>\n",
       "      <td>https://amazon.in/Psychology-Money-Morgan-Hous...</td>\n",
       "    </tr>\n",
       "    <tr>\n",
       "      <th>3</th>\n",
       "      <td>The Power of Your Subconscious Mind</td>\n",
       "      <td>Joseph Murphy</td>\n",
       "      <td>4.5 out of 5 stars</td>\n",
       "      <td>58,547</td>\n",
       "      <td>₹115.00</td>\n",
       "      <td>https://amazon.in/Power-Your-Subconscious-Mind...</td>\n",
       "    </tr>\n",
       "    <tr>\n",
       "      <th>4</th>\n",
       "      <td>Word Power Made Easy</td>\n",
       "      <td>Norman Lewis</td>\n",
       "      <td>4.4 out of 5 stars</td>\n",
       "      <td>42,134</td>\n",
       "      <td>₹122.00</td>\n",
       "      <td>https://amazon.in/Word-Power-Made-Norman-Lewis...</td>\n",
       "    </tr>\n",
       "    <tr>\n",
       "      <th>...</th>\n",
       "      <td>...</td>\n",
       "      <td>...</td>\n",
       "      <td>...</td>\n",
       "      <td>...</td>\n",
       "      <td>...</td>\n",
       "      <td>...</td>\n",
       "    </tr>\n",
       "    <tr>\n",
       "      <th>95</th>\n",
       "      <td>International English Olympiad (IEO) Work Book...</td>\n",
       "      <td>ZARRIN ALI KHAN</td>\n",
       "      <td>4.6 out of 5 stars</td>\n",
       "      <td>20</td>\n",
       "      <td>₹64.00</td>\n",
       "      <td>https://amazon.in/International-English-Olympi...</td>\n",
       "    </tr>\n",
       "    <tr>\n",
       "      <th>96</th>\n",
       "      <td>India that is Bharat: Coloniality, Civilisatio...</td>\n",
       "      <td>J Sai Deepak</td>\n",
       "      <td>4.8 out of 5 stars</td>\n",
       "      <td>4,383</td>\n",
       "      <td>₹420.00</td>\n",
       "      <td>https://amazon.in/India-that-Bharat-Civilisati...</td>\n",
       "    </tr>\n",
       "    <tr>\n",
       "      <th>97</th>\n",
       "      <td>India &amp; World Map ( Both Political &amp; Physical ...</td>\n",
       "      <td>Vidya Chitr Prakashan</td>\n",
       "      <td>4.5 out of 5 stars</td>\n",
       "      <td>1,137</td>\n",
       "      <td>₹140.00</td>\n",
       "      <td>https://amazon.in/Political-Physical-Constitut...</td>\n",
       "    </tr>\n",
       "    <tr>\n",
       "      <th>98</th>\n",
       "      <td>Bhagavad Gita Original in English - Bhagavad G...</td>\n",
       "      <td>A. C. Bhaktivedanta Swami Prabhupad</td>\n",
       "      <td>4.8 out of 5 stars</td>\n",
       "      <td>3,700</td>\n",
       "      <td>₹280.00</td>\n",
       "      <td>https://amazon.in/Bhagavad-Gita-Original-Engli...</td>\n",
       "    </tr>\n",
       "    <tr>\n",
       "      <th>99</th>\n",
       "      <td>When I Am With You</td>\n",
       "      <td>Durjoy Datta</td>\n",
       "      <td>4.8 out of 5 stars</td>\n",
       "      <td>13</td>\n",
       "      <td>₹125.00</td>\n",
       "      <td>https://amazon.in/When-Am-You-Durjoy-Datta/dp/...</td>\n",
       "    </tr>\n",
       "  </tbody>\n",
       "</table>\n",
       "<p>100 rows × 6 columns</p>\n",
       "</div>"
      ],
      "text/plain": [
       "                                                Title  \\\n",
       "0   Atomic Habits: The life-changing million copy ...   \n",
       "1   Ikigai: The Japanese secret to a long and happ...   \n",
       "2                             The Psychology of Money   \n",
       "3                 The Power of Your Subconscious Mind   \n",
       "4                                Word Power Made Easy   \n",
       "..                                                ...   \n",
       "95  International English Olympiad (IEO) Work Book...   \n",
       "96  India that is Bharat: Coloniality, Civilisatio...   \n",
       "97  India & World Map ( Both Political & Physical ...   \n",
       "98  Bhagavad Gita Original in English - Bhagavad G...   \n",
       "99                                 When I Am With You   \n",
       "\n",
       "                                 Author         Star Rating Total Ratings  \\\n",
       "0                           James Clear  4.7 out of 5 stars        55,002   \n",
       "1                         Héctor García  4.6 out of 5 stars        36,253   \n",
       "2                         Morgan Housel  4.6 out of 5 stars        44,661   \n",
       "3                         Joseph Murphy  4.5 out of 5 stars        58,547   \n",
       "4                          Norman Lewis  4.4 out of 5 stars        42,134   \n",
       "..                                  ...                 ...           ...   \n",
       "95                      ZARRIN ALI KHAN  4.6 out of 5 stars            20   \n",
       "96                         J Sai Deepak  4.8 out of 5 stars         4,383   \n",
       "97                Vidya Chitr Prakashan  4.5 out of 5 stars         1,137   \n",
       "98  A. C. Bhaktivedanta Swami Prabhupad  4.8 out of 5 stars         3,700   \n",
       "99                         Durjoy Datta  4.8 out of 5 stars            13   \n",
       "\n",
       "      Price                                                URL  \n",
       "0   ₹295.00  https://amazon.in/Atomic-Habits-James-Clear/dp...  \n",
       "1   ₹298.00  https://amazon.in/Ikigai-H%C3%A9ctor-Garc%C3%A...  \n",
       "2   ₹245.00  https://amazon.in/Psychology-Money-Morgan-Hous...  \n",
       "3   ₹115.00  https://amazon.in/Power-Your-Subconscious-Mind...  \n",
       "4   ₹122.00  https://amazon.in/Word-Power-Made-Norman-Lewis...  \n",
       "..      ...                                                ...  \n",
       "95   ₹64.00  https://amazon.in/International-English-Olympi...  \n",
       "96  ₹420.00  https://amazon.in/India-that-Bharat-Civilisati...  \n",
       "97  ₹140.00  https://amazon.in/Political-Physical-Constitut...  \n",
       "98  ₹280.00  https://amazon.in/Bhagavad-Gita-Original-Engli...  \n",
       "99  ₹125.00  https://amazon.in/When-Am-You-Durjoy-Datta/dp/...  \n",
       "\n",
       "[100 rows x 6 columns]"
      ]
     },
     "execution_count": 95,
     "metadata": {},
     "output_type": "execute_result"
    }
   ],
   "source": [
    "dataframe"
   ]
  },
  {
   "cell_type": "markdown",
   "id": "c15e6d5a",
   "metadata": {},
   "source": [
    "All the extracted data from both the web pages are compiled into the dictionary and presented in a dataframe format containing 100 elements."
   ]
  },
  {
   "cell_type": "markdown",
   "id": "4e4a6407",
   "metadata": {},
   "source": [
    "## Save the extracted information to a CSV file\n",
    "\n",
    "Let's create a `.csv` file to save the extracted information."
   ]
  },
  {
   "cell_type": "code",
   "execution_count": 54,
   "id": "cc29e0e3",
   "metadata": {},
   "outputs": [],
   "source": [
    "dataframe.to_csv('amazon-bestseller-books.csv', index=None)"
   ]
  },
  {
   "cell_type": "markdown",
   "id": "589bc63b",
   "metadata": {},
   "source": [
    "We have created a `amazon-bestseller-book.csv` file containing all the extracted data.\n",
    "\n",
    "Let's view some of the top contents from the csv file using `!head` function."
   ]
  },
  {
   "cell_type": "code",
   "execution_count": 55,
   "id": "e17e5ca5",
   "metadata": {},
   "outputs": [
    {
     "name": "stdout",
     "output_type": "stream",
     "text": [
      "Title,Author,Star Rating,Total Ratings,Price,URL\r\n",
      "Atomic Habits: The life-changing million copy bestseller,James Clear,4.7 out of 5 stars,\"54,899\",₹295.00,https://amazon.in/Atomic-Habits-James-Clear/dp/1847941834/ref=zg_bs_books_sccl_1/000-0000000-0000000?pd_rd_i=1847941834&psc=1\r\n",
      "Ikigai: The Japanese secret to a long and happy life,Héctor García,4.6 out of 5 stars,\"36,199\",₹300.00,https://amazon.in/Ikigai-H%C3%A9ctor-Garc%C3%ADa/dp/178633089X/ref=zg_bs_books_sccl_2/000-0000000-0000000?pd_rd_i=178633089X&psc=1\r\n",
      "The Psychology of Money,Morgan Housel,4.6 out of 5 stars,\"44,543\",₹255.00,https://amazon.in/Psychology-Money-Morgan-Housel/dp/9390166268/ref=zg_bs_books_sccl_3/000-0000000-0000000?pd_rd_i=9390166268&psc=1\r\n",
      "My First Library: Boxset of 10 Board Books for Kids,Wonder House Books,4.5 out of 5 stars,\"59,941\",₹399.00,https://amazon.in/My-First-Library-Boxset-Board/dp/9387779262/ref=zg_bs_books_sccl_4/000-0000000-0000000?pd_rd_i=9387779262&psc=1\r\n",
      "The Power of Your Subconscious Mind,Joseph Murphy,4.5 out of 5 stars,\"58,437\",₹115.00,https://amazon.in/Power-Your-Subconscious-Mind/dp/8194790832/ref=zg_bs_books_sccl_5/000-0000000-0000000?pd_rd_i=8194790832&psc=1\r\n",
      "Word Power Made Easy,Norman Lewis,4.4 out of 5 stars,\"42,062\",₹122.00,https://amazon.in/Word-Power-Made-Norman-Lewis/dp/0143424688/ref=zg_bs_books_sccl_6/000-0000000-0000000?pd_rd_i=0143424688&psc=1\r\n",
      "Rich Dad Poor Dad : What The Rich Teach Their Kids About Money That The Poor And Middle Class Do Not!: (25th Anniversary Edition),Robert T. Kiyosaki,4.6 out of 5 stars,\"70,298\",₹188.00,https://amazon.in/Rich-Dad-Poor-Middle-Anniversary/dp/1612681131/ref=zg_bs_books_sccl_7/000-0000000-0000000?pd_rd_i=1612681131&psc=1\r\n",
      "Trading Chart Breakout Pattern & Candlestick Pattern Pocket Study,Akash Kundur,4.2 out of 5 stars,471,₹199.00,https://amazon.in/Trading-Breakout-Pattern-Candlestick-Pocket/dp/B09Z85R4SW/ref=zg_bs_books_sccl_8/000-0000000-0000000?pd_rd_i=B09Z85R4SW&psc=1\r\n",
      "You Can,George Matthew Adams,4.5 out of 5 stars,\"1,290\",₹99.00,https://amazon.in/You-Can-George-Matthew-Adams/dp/9389931843/ref=zg_bs_books_sccl_9/000-0000000-0000000?pd_rd_i=9389931843&psc=1\r\n"
     ]
    }
   ],
   "source": [
    "!head amazon-bestseller-books.csv"
   ]
  },
  {
   "cell_type": "markdown",
   "id": "3aa1906d",
   "metadata": {},
   "source": [
    "We have extracted the required information and saved it in a CSV file.\n",
    "\n",
    "Let's import `jovian` and save our work using `jovian.commit`."
   ]
  },
  {
   "cell_type": "code",
   "execution_count": 96,
   "id": "ef493a76",
   "metadata": {},
   "outputs": [],
   "source": [
    "import jovian"
   ]
  },
  {
   "cell_type": "code",
   "execution_count": 97,
   "id": "0abd2d70",
   "metadata": {},
   "outputs": [
    {
     "data": {
      "application/javascript": [
       "window.require && require([\"base/js/namespace\"],function(Jupyter){Jupyter.notebook.save_checkpoint()})"
      ],
      "text/plain": [
       "<IPython.core.display.Javascript object>"
      ]
     },
     "metadata": {},
     "output_type": "display_data"
    },
    {
     "name": "stdout",
     "output_type": "stream",
     "text": [
      "[jovian] Updating notebook \"ahlenoorkhan/project1-web-scraping-bestseller-books-on-amazon\" on https://jovian.ai\u001b[0m\n",
      "[jovian] Committed successfully! https://jovian.ai/ahlenoorkhan/project1-web-scraping-bestseller-books-on-amazon\u001b[0m\n"
     ]
    },
    {
     "data": {
      "text/plain": [
       "'https://jovian.ai/ahlenoorkhan/project1-web-scraping-bestseller-books-on-amazon'"
      ]
     },
     "execution_count": 97,
     "metadata": {},
     "output_type": "execute_result"
    }
   ],
   "source": [
    "jovian.commit()"
   ]
  },
  {
   "cell_type": "code",
   "execution_count": null,
   "id": "f636c3e4",
   "metadata": {},
   "outputs": [
    {
     "data": {
      "application/javascript": [
       "window.require && require([\"base/js/namespace\"],function(Jupyter){Jupyter.notebook.save_checkpoint()})"
      ],
      "text/plain": [
       "<IPython.core.display.Javascript object>"
      ]
     },
     "metadata": {},
     "output_type": "display_data"
    }
   ],
   "source": [
    "# Execute this to save new versions of the notebook\n",
    "jovian.commit(files=['amazon-bestseller-books.csv'])"
   ]
  },
  {
   "cell_type": "markdown",
   "id": "f47c5025",
   "metadata": {},
   "source": [
    "## Summary\n",
    "\n",
    "Here is what we have covered in our notebook:\n",
    "\n",
    "1. We downloaded the web page using `requests` library.\n",
    "2. Parsed the HTML source code using beautiful soup.\n",
    "3. Extracted books title, author name, star rating, total ratings, price and URLs  of the books from web page.\n",
    "4. Compiled the extracted information into Python lists and dictionaries.\n",
    "5. Extracted and combined data from both the pages.\n",
    "6. Finally saved the extracted information in a CSV file.\n",
    "\n",
    "The CSV file file we have created has this format:\n",
    "```\n",
    "Title,Author,Star Rating,Total Ratings,Price,URL\n",
    "Atomic Habits: The life-changing million copy bestseller,James Clear,4.7 out of 5 stars,\"54,861\",₹295.00,https://amazon.in/Atomic-Habits-James-Clear/dp/1847941834/ref=zg_bs_books_sccl_1/000-0000000-0000000?pd_rd_i=1847941834&psc=1\n",
    "Ikigai: The Japanese secret to a long and happy life,Héctor García,4.6 out of 5 stars,\"36,182\",₹300.00,https://amazon.in/Ikigai-H%C3%A9ctor-Garc%C3%ADa/dp/178633089X/ref=zg_bs_books_sccl_2/000-0000000-0000000?pd_rd_i=178633089X&psc=1\n",
    "The Psychology of Money,Morgan Housel,4.6 out of 5 stars,\"44,513\",₹255.00,https://amazon.in/Psychology-Money-Morgan-Housel/dp/9390166268/ref=zg_bs_books_sccl_3/000-0000000-0000000?pd_rd_i=9390166268&psc=1\n",
    "```\n",
    "\n",
    "Here is the complete code for this project:"
   ]
  },
  {
   "cell_type": "code",
   "execution_count": null,
   "id": "3311b63d",
   "metadata": {},
   "outputs": [],
   "source": [
    "import requests\n",
    "from bs4 import BeautifulSoup\n",
    "import pandas as pd\n",
    "import time\n",
    "\n",
    "def select_page(page_no):    \n",
    "    # Downloads the web page\n",
    "    response = requests.get('https://www.amazon.in/gp/bestsellers/books/ref=zg_bs_pg_2?ie=UTF8&pg={}'.format(page_no))\n",
    "    # Check if download was successful\n",
    "    if response.status_code != 200:\n",
    "        raise Exception('Failed to fetch webpage: https://www.amazon.in/gp/bestsellers/books/ref=zg_bs_pg_2?ie=UTF8&pg={}'.format(page_no)) \n",
    "    # Get the page HTML\n",
    "    page_content = response.text\n",
    "    # Create a bs4 doc\n",
    "    doc = BeautifulSoup(response.text, 'html.parser')\n",
    "    return doc\n",
    "\n",
    "def get_books_title(doc):\n",
    "    # Get all the 'div' tags from the doc using 'find_all' method and 'class' attribute\n",
    "    div_tags = doc.find_all('div', class_='a-column a-span12 a-text-center _cDEzb_grid-column_2hIsc')\n",
    "    books_title = []\n",
    "    # Create a loop to generate a list of 'titles' for all books\n",
    "    for i in range(len(div_tags)):\n",
    "        # Using find_all method for 'span' tag to get the title\n",
    "        books_title.append(div_tags[i].find_all('span')[1].text)\n",
    "    # Returns the list of titles for all books\n",
    "    return books_title\n",
    "\n",
    "def get_author_names(doc):\n",
    "    \"\"\"The attributes of all the books are compiled in div tags which can be parsed using the 'class' attribute from the doc.\n",
    "    Hence it will remain same to extract all the required information.\"\"\" \n",
    "    div_tags = doc.find_all('div', class_='a-column a-span12 a-text-center _cDEzb_grid-column_2hIsc')\n",
    "    author = []\n",
    "    # Create a loop within range of length of 'div tags' to generate a list of 'authors name' for all books\n",
    "    for i in range(len(div_tags)):\n",
    "        # Using the 'try' and 'except' block to handle any error's if present\n",
    "        try:\n",
    "            # Using find_all method with 'class' attribute to get the authors name\n",
    "            author.append(div_tags[i].find_all(class_='_cDEzb_p13n-sc-css-line-clamp-1_1Fn1y')[1].text)\n",
    "        except:\n",
    "            try:\n",
    "                author.append(div_tags[i].find_all(class_='_cDEzb_p13n-sc-css-line-clamp-1_1Fn1y')[0].text)\n",
    "            except:\n",
    "                author.append('NA')\n",
    "    # Returns the list of authors name\n",
    "    return author\n",
    "\n",
    "def get_star_ratings(doc):\n",
    "    div_tags = doc.find_all('div', class_='a-column a-span12 a-text-center _cDEzb_grid-column_2hIsc')\n",
    "    star_rating = []\n",
    "    \"\"\"Running the loop within range of length of 'div tags' as all books attributes are present in \n",
    "    div tags with above 'class' values\"\"\"\n",
    "    for i in range(len(div_tags)):\n",
    "        try:\n",
    "            # Using the 'span' tag with the 'class' attribute to get the star ratings\n",
    "            star_rating.append(div_tags[i].find('span', class_='a-icon-alt').text)\n",
    "        except:\n",
    "            star_rating.append('NA')\n",
    "    # Returns the list of star ratings\n",
    "    return star_rating\n",
    "\n",
    "def get_total_ratings(doc):\n",
    "    div_tags = doc.find_all('div', class_='a-column a-span12 a-text-center _cDEzb_grid-column_2hIsc')\n",
    "    total_rating = []\n",
    "    for i in range(len(div_tags)):\n",
    "        try:\n",
    "            # Using the 'span' tag with the 'class' attribute to get the total ratings\n",
    "            total_rating.append(div_tags[i].find_all('span', class_='a-size-small')[-2].text)\n",
    "        except:\n",
    "            total_rating.append('NA')\n",
    "    # Returns the list of total ratings\n",
    "    return total_rating\n",
    "\n",
    "def get_books_url(doc):\n",
    "    div_tags = doc.find_all('div', class_='a-column a-span12 a-text-center _cDEzb_grid-column_2hIsc')\n",
    "    base_url = 'https://amazon.in'\n",
    "    books_url = []\n",
    "    for i in range(len(div_tags)):\n",
    "        # Using find method for 'href' attribute to get the url\n",
    "        books_url.append(base_url + div_tags[i].find('a')['href'])\n",
    "    # Returns the list of URLs for all books\n",
    "    return books_url\n",
    "\n",
    "def get_pages(page_number):\n",
    "    doc = select_page(page_number)\n",
    "    books_title = get_books_title(doc)\n",
    "    author_names = get_author_names(doc)\n",
    "    star_ratings = get_star_ratings(doc)\n",
    "    total_ratings = get_total_ratings(doc)\n",
    "    books_price = get_books_price(doc)\n",
    "    books_url = get_books_url(doc)\n",
    "    return books_title, author_names, star_ratings, total_ratings, books_price, books_url\n",
    "\n",
    "def parse_amazon_bestseller_books_pages(n):\n",
    "    all_books_title, all_author_names, all_star_ratings, all_total_ratings, all_books_price, all_books_url = [],[],[],[],[],[]\n",
    "    all_books_data = {\n",
    "    'Title' : all_books_title,\n",
    "    'Author' : all_author_names,\n",
    "    'Star Rating' : all_star_ratings,\n",
    "    'Total Ratings' : all_total_ratings,\n",
    "    'Price' : all_books_price,\n",
    "    'URL' : all_books_url\n",
    "    }    \n",
    "    for page_number in range (1,n+1):\n",
    "        books_title, author_names, star_ratings, total_ratings, books_price, books_url = get_pages(page_number)\n",
    "        all_books_title += books_title \n",
    "        all_author_names += author_names\n",
    "        all_star_ratings += star_ratings\n",
    "        all_total_ratings += total_ratings\n",
    "        all_books_price += books_price\n",
    "        all_books_url += books_url\n",
    "        # Give sleep time of 30 seconds before moving to next page \n",
    "        time.sleep(30)\n",
    "    return all_books_data   "
   ]
  },
  {
   "cell_type": "markdown",
   "id": "613839bb",
   "metadata": {},
   "source": [
    "## Future Works\n",
    "\n",
    "* We can scrape each book to fetch more information about the book such as description of the book, details of star rating, critical or most helpful reviews.\n",
    "* As the web page is updated on an hourly basis, we can collect data at various times to analyze the changes in book ranking over time. \n",
    "* We can analyze this data to find the relationship between total ratings and star rating, the impact of ratings on the books ranking, etc."
   ]
  },
  {
   "cell_type": "markdown",
   "id": "c14052cb",
   "metadata": {},
   "source": [
    "# References\n",
    "\n",
    "* Web scraping tutorial at Jovian: https://jovian.ai/learn/zero-to-data-analyst-bootcamp/lesson/web-scraping-and-rest-apis\n",
    "* Documentation tutorial at Jovian: https://jovian.ai/learn/zero-to-data-analyst-bootcamp/lesson/documentation-and-storytelling?notebook=aakashns/documentation-and-storytelling\n",
    "* Requests documentation: https://requests.readthedocs.io/en/latest/\n",
    "* Beautiful Soup documentation: https://www.crummy.com/software/BeautifulSoup/bs4/doc/\n",
    "* Pandas documentation: https://pandas.pydata.org/docs/"
   ]
  }
 ],
 "metadata": {
  "kernelspec": {
   "display_name": "Python 3 (ipykernel)",
   "language": "python",
   "name": "python3"
  },
  "language_info": {
   "codemirror_mode": {
    "name": "ipython",
    "version": 3
   },
   "file_extension": ".py",
   "mimetype": "text/x-python",
   "name": "python",
   "nbconvert_exporter": "python",
   "pygments_lexer": "ipython3",
   "version": "3.9.7"
  }
 },
 "nbformat": 4,
 "nbformat_minor": 5
}
